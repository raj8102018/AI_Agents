{
 "cells": [
  {
   "cell_type": "code",
   "execution_count": 28,
   "metadata": {},
   "outputs": [
    {
     "data": {
      "text/plain": [
       "True"
      ]
     },
     "execution_count": 28,
     "metadata": {},
     "output_type": "execute_result"
    }
   ],
   "source": [
    "import warnings\n",
    "import os\n",
    "import requests\n",
    "from dotenv import load_dotenv\n",
    "warnings.filterwarnings('ignore')\n",
    "\n",
    "# Load environment variables from .env file\n",
    "load_dotenv()"
   ]
  },
  {
   "cell_type": "code",
   "execution_count": null,
   "metadata": {},
   "outputs": [],
   "source": [
    "!pip install --upgrade langchain_google_genai\n",
    "!pip install --upgrade langchain\n"
   ]
  },
  {
   "cell_type": "code",
   "execution_count": 227,
   "metadata": {},
   "outputs": [],
   "source": [
    "from langchain_google_genai import ChatGoogleGenerativeAI\n",
    "from langchain.prompts import PromptTemplate\n",
    "from langchain.chains import LLMChain, SimpleSequentialChain, LLMRouterChain, SequentialChain\n",
    "from langchain.tools import tool, Tool\n",
    "from langchain.chains.base import Chain\n",
    "import json\n",
    "import requests\n",
    "from langchain_core.runnables import RunnableParallel\n",
    "from langchain.chains import SequentialChain\n",
    "from langchain.chains.router.llm_router import LLMRouterChain, RouterOutputParser\n",
    "from langchain.chains.router.multi_prompt_prompt import MULTI_PROMPT_ROUTER_TEMPLATE\n",
    "from langchain.prompts import PromptTemplate\n",
    "from langchain.chains import LLMChain\n",
    "\n"
   ]
  },
  {
   "cell_type": "code",
   "execution_count": 228,
   "metadata": {},
   "outputs": [],
   "source": [
    "\n",
    "\n",
    "# Get the Google API key from environment variables\n",
    "GOOGLE_API_KEY = os.getenv(\"GOOGLE_API_KEY\")\n",
    "\n",
    "# Check if the API key is set\n",
    "if not GOOGLE_API_KEY:\n",
    "    raise ValueError(\"Google API key is not set. Please check your .env file.\")\n",
    "\n",
    "# Initialize the Google Generative AI model\n",
    "llm = ChatGoogleGenerativeAI(model=\"gemini-1.5-flash\", google_api_key=GOOGLE_API_KEY, temperature=0)\n"
   ]
  },
  {
   "cell_type": "code",
   "execution_count": 229,
   "metadata": {},
   "outputs": [],
   "source": [
    "first_data_input={'input': '[{\"subject\": \"Streamlining Manufacturing Processes with AI\", \"conversation\": [\"\\\\n\\\\nDear rajendra kumar,\\\\n\\\\nQState is a company that helps manufacturers like test#3 leverage the power of AI to enhance efficiency and optimize production.\\\\n\\\\nWe offer a range of solutions, from predictive maintenance to supply chain optimization, that can help you reduce downtime, minimize waste, and increase overall productivity.\\\\n\\\\nWould you be interested in learning more about how QState can help your manufacturing operations?\\\\n\\\\nBest regards,\\\\n\\\\nYuvraj\\\\n\", \"I am interested but I need to know how to proceed further\\\\r\\\\n\\\\r\\\\nOn Fri, Nov 15, 2024 at 5:38\\\\u202fPM <yuvraj07102024@gmail.com> wrote:\\\\r\\\\n\\\\r\\\\n> Dear rajendra kumar,\\\\r\\\\n>\\\\r\\\\n> QState is a company that helps manufacturers like test#3 leverage the\\\\r\\\\n> power of AI to enhance efficiency and optimize production.\\\\r\\\\n>\\\\r\\\\n> We offer a range of solutions, from predictive maintenance to supply\\\\r\\\\n> chain optimization, that can help you reduce downtime, minimize waste,\\\\r\\\\n> and increase overall productivity.\\\\r\\\\n>\\\\r\\\\n> Would you be interested in learning more about how QState can help\\\\r\\\\n> your manufacturing operations?\\\\r\\\\n>\\\\r\\\\n> Best regards,\\\\r\\\\n>\\\\r\\\\n> Yuvraj\\\\r\\\\n>\\\\r\\\\n\"], \"date\": \"Fri, 15 Nov 2024 17:43:50 +0530\"}, {\"subject\": \"Streamlining Operations for Nonprofit Success with AI\", \"conversation\": [\"\\\\n\\\\nDear Rajendra,\\\\n\\\\nMy name is Yuvraj, and I\\'m reaching out from QState, a company dedicated to helping organizations like yours maximize their impact through innovative AI solutions. \\\\n\\\\nWe understand the unique challenges nonprofits face in managing resources and achieving their missions. QState\\'s AI solutions can help you automate tasks, optimize resource allocation, and improve data-driven decision-making, allowing you to focus on what matters most: delivering impactful programs.\\\\n\\\\nWould you be open to a brief conversation to explore how AI can help your organization reach its full potential?\\\\n\\\\nSincerely,\\\\nYuvraj\\\\nQState\\\\n\", \"share more information about your company. who are the founders and what\\\\r\\\\nare their qualifications?\\\\r\\\\n\\\\r\\\\nOn Fri, 15 Nov 2024 at 17:38, <yuvraj07102024@gmail.com> wrote:\\\\r\\\\n\\\\r\\\\n> Dear Rajendra,\\\\r\\\\n>\\\\r\\\\n> My name is Yuvraj, and I\\'m reaching out from QState, a company\\\\r\\\\n> dedicated to helping organizations like yours maximize their impact\\\\r\\\\n> through innovative AI solutions.\\\\r\\\\n>\\\\r\\\\n> We understand the unique challenges nonprofits face in managing\\\\r\\\\n> resources and achieving their missions. QState\\'s AI solutions can help\\\\r\\\\n> you automate tasks, optimize resource allocation, and improve\\\\r\\\\n> data-driven decision-making, allowing you to focus on what matters\\\\r\\\\n> most: delivering impactful programs.\\\\r\\\\n>\\\\r\\\\n> Would you be open to a brief conversation to explore how AI can help\\\\r\\\\n> your organization reach its full potential?\\\\r\\\\n>\\\\r\\\\n> Sincerely,\\\\r\\\\n> Yuvraj\\\\r\\\\n> QState\\\\r\\\\n>\\\\r\\\\n\\\\r\\\\n\\\\r\\\\n-- \\\\r\\\\n*RAJENDRAPRASAD.K*\\\\r\\\\n\"], \"date\": \"Fri, 15 Nov 2024 17:43:17 +0530\"}, {\"subject\": \"Boosting Efficiency in Appliances Manufacturing with AI\", \"conversation\": [\"\\\\n\\\\nDear rohith sharma,\\\\n\\\\nAs the founder of test#2, you\\'re likely focused on finding ways to optimize your manufacturing processes for efficiency and cost savings.\\\\n\\\\nQState specializes in developing AI-powered solutions tailored for the appliances, electrical, and electronics manufacturing industry. We can help you optimize production lines, automate quality control, and gain insights into customer demand.\\\\n\\\\nWould you be open to a quick call to explore how QState can help you achieve your manufacturing goals?\\\\n\\\\nBest regards,\\\\n\\\\nYuvraj\\\\n\", \"I am not interested at all. thank you very much.\\\\r\\\\n\\\\r\\\\nOn Fri, 15 Nov 2024 at 17:38, <yuvraj07102024@gmail.com> wrote:\\\\r\\\\n\\\\r\\\\n> Dear rohith sharma,\\\\r\\\\n>\\\\r\\\\n> As the founder of test#2, you\\'re likely focused on finding ways to\\\\r\\\\n> optimize your manufacturing processes for efficiency and cost savings.\\\\r\\\\n>\\\\r\\\\n> QState specializes in developing AI-powered solutions tailored for the\\\\r\\\\n> appliances, electrical, and electronics manufacturing industry. We can\\\\r\\\\n> help you optimize production lines, automate quality control, and gain\\\\r\\\\n> insights into customer demand.\\\\r\\\\n>\\\\r\\\\n> Would you be open to a quick call to explore how QState can help you\\\\r\\\\n> achieve your manufacturing goals?\\\\r\\\\n>\\\\r\\\\n> Best regards,\\\\r\\\\n>\\\\r\\\\n> Yuvraj\\\\r\\\\n>\\\\r\\\\n\"], \"date\": \"Fri, 15 Nov 2024 17:41:51 +0530\"}, {\"subject\": \"Streamlining Government Administration with AI\", \"conversation\": [\"\\\\n\\\\nDear Rohith Goud,\\\\n\\\\nMy name is Yuvraj, and I\\'m reaching out from QState, a leading provider of AI integration solutions. We understand the unique challenges faced by government organizations in today\\'s data-driven world.\\\\n\\\\nQState\\'s AI solutions can help streamline your processes, improve efficiency, and optimize resource allocation. We can help you automate repetitive tasks, improve data analysis, and gain valuable insights from your data.\\\\n\\\\nWould you be interested in a brief discussion about how QState can help your organization achieve its goals?\\\\n\\\\nBest regards,\\\\n\\\\nYuvraj\\\\n\", \"All right but can you give me more information about your company?\\\\r\\\\n\\\\r\\\\nOn Fri, Nov 15, 2024 at 5:39\\\\u202fPM <yuvraj07102024@gmail.com> wrote:\\\\r\\\\n\\\\r\\\\n> Dear Rohith Goud,\\\\r\\\\n>\\\\r\\\\n> My name is Yuvraj, and I\\'m reaching out from QState, a leading\\\\r\\\\n> provider of AI integration solutions. We understand the unique\\\\r\\\\n> challenges faced by government organizations in today\\'s data-driven\\\\r\\\\n> world.\\\\r\\\\n>\\\\r\\\\n> QState\\'s AI solutions can help streamline your processes, improve\\\\r\\\\n> efficiency, and optimize resource allocation. We can help you automate\\\\r\\\\n> repetitive tasks, improve data analysis, and gain valuable insights\\\\r\\\\n> from your data.\\\\r\\\\n>\\\\r\\\\n> Would you be interested in a brief discussion about how QState can\\\\r\\\\n> help your organization achieve its goals?\\\\r\\\\n>\\\\r\\\\n> Best regards,\\\\r\\\\n>\\\\r\\\\n> Yuvraj\\\\r\\\\n>\\\\r\\\\n\"], \"date\": \"Fri, 15 Nov 2024 17:41:05 +0530\"}]'}"
   ]
  },
  {
   "cell_type": "markdown",
   "metadata": {},
   "source": [
    "#FINAL MERGE"
   ]
  },
  {
   "cell_type": "code",
   "execution_count": 230,
   "metadata": {},
   "outputs": [
    {
     "name": "stdout",
     "output_type": "stream",
     "text": [
      "\n",
      "\n",
      "\u001b[1m> Entering new SimpleSequentialChain chain...\u001b[0m\n",
      "\u001b[36;1m\u001b[1;3m{\"summaries\": {\"with_queries\": [{\"1\": {\"conversation_summary\": \"Yuvraj from QState contacted Rajendra Kumar about AI solutions for manufacturing. Rajendra expressed interest but requested further information on how to proceed.  \\n\\n**Client (Rajendra Kumar):** Expressed interest, requested information on next steps.\\n\\n**Executive (Yuvraj):** Introduced QState and its AI solutions for manufacturing, offered to provide more information.\", \"has_query\": true, \"Last message received on\": \"Fri, 15 Nov 2024 17:43:50 +0530\"}}, {\"4\": {\"conversation_summary\": \"Yuvraj from QState contacted Rohith Goud about AI solutions for government administration. Rohith Goud expressed interest but requested more information about QState. \\n\\n**Client (Rohith Goud):** Expressed interest, requested company information.\\n\\n**Executive (Yuvraj):** Introduced QState and its AI solutions for government administration, offered to provide more information.\", \"has_query\": true, \"Last message received on\": \"Fri, 15 Nov 2024 17:41:05 +0530\"}}, {\"2\": {\"conversation_summary\": \"Yuvraj from QState contacted Rajendra about AI solutions for nonprofits. Rajendra requested information about the company founders and their qualifications.\\n\\n**Client (Rajendra):** Requested information about company founders and their qualifications.\\n\\n**Executive (Yuvraj):** Introduced QState and its AI solutions for nonprofits, offered to discuss further.\", \"has_query\": true, \"Last message received on\": \"Fri, 15 Nov 2024 17:43:17 +0530\"}}], \"without_queries\": [{\"3\": {\"conversation_summary\": \"Yuvraj from QState contacted Rohith Sharma about AI solutions for appliance manufacturing. Rohith Sharma was not interested.\\n\\n**Client (Rohith Sharma):** Declined the offer.\\n\\n**Executive (Yuvraj):** Introduced QState and its AI solutions for appliance manufacturing, offered a call to discuss further.\", \"has_query\": false, \"Last message received on\": \"Fri, 15 Nov 2024 17:41:51 +0530\"}}]}}\n",
      "\u001b[0m\n",
      "\u001b[33;1m\u001b[1;3m[],[],[{\"3\": \"Dear Rohith Sharma,\\n\\nThank you for your time and consideration regarding QState's AI solutions for appliance manufacturing. We understand that our solutions are not currently a fit for your needs, and we appreciate you letting us know.\\n\\nWe wish you all the best in your future endeavors.\\n\\nSincerely,\\nThe QState Team\"}]\n",
      "\u001b[0m\n",
      "\n",
      "\u001b[1m> Finished chain.\u001b[0m\n",
      "[],[],[{\"3\": \"Dear Rohith Sharma,\\n\\nThank you for your time and consideration regarding QState's AI solutions for appliance manufacturing. We understand that our solutions are not currently a fit for your needs, and we appreciate you letting us know.\\n\\nWe wish you all the best in your future endeavors.\\n\\nSincerely,\\nThe QState Team\"}]\n",
      "\n"
     ]
    }
   ],
   "source": [
    "\n",
    "first_prompt = PromptTemplate.from_template(\n",
    "            \"You are given email conversation threads between a client and a business sales executive.\"\n",
    "            \"Here are the entries: {input}.\"\n",
    "            \"Each entry includes a subject line providing context, a message exchange between the two parties, and a date.\"\n",
    "            \"Summarize each conversation into a concise paragraph, specifying who provided each piece of information.\"\n",
    "            \"Each summary should highlight key points, exchanges, and any action items, clearly labeling client and executive contributions.\"\n",
    "            \"Only if the client asks for more time before responding or requests to be contacted after a month, indicate that the follow-up will be postponed and include a note stating that the lead is in follow-up.\"\n",
    "            \"This summary will be used to draft a follow-up response for each conversation.\"\n",
    "            \"Return the summary and indicate whether the conversation contains a question.\"\n",
    "            \"The result should be formatted as two JSON objects, where the key is the email number (integer only), and the value contains:\"\n",
    "            \"The conversation summary.\"\n",
    "            \"A 'has_query' field that indicates whether the conversation contains a question.\"\n",
    "            \"If the conversation contains a question, set 'has_query': true.\"\n",
    "            \"If not, set 'has_query': false.\"\n",
    "            \"A 'Last message received on' field with [date] from the provided data.'\"\n",
    "            \"For context, your name is Yuvraj, and your company is QState.\"\n",
    "            \"The two json objects should have the following format: 'with_queries' field having entries with queries and 'without_queries' field with remaiing entries\"\n",
    "            \"wrap both the json objects in a value with key 'summaries'\"\n",
    "            \"Ensure the output is plain JSON without any Markdown formatting or code block delimiters.\"\n",
    "            \"pack all the data as a value with key 'summaries'\"\n",
    ")\n",
    "\n",
    "# Running the LLM chain with the simplified prompt\n",
    "llm_chain_summary = LLMChain(llm=llm, prompt=first_prompt, output_key='summaries')\n",
    "\n",
    "refinement_prompt = PromptTemplate.from_template(\n",
    "    \"You are given a set of conversation summaries from previous email exchanges between clients and sales executives.\"\n",
    "    \"Here are the summaries: {summaries}\"\n",
    "    \"The summaries are grouped as 'with_queries' and 'without_queries' Each summary includes a conversation summary, whether there is a query, and the last message received on a specific date.\"\n",
    "    \"Each summary includes a conversation summary, whether there is a query, and the last message received on a specific date.\"\n",
    "    \"Your task is to take only the summaries grouped under 'without_queries' and classify each entry into one of three types of responses, strictly following these rules:\\n\\n\"\n",
    "\n",
    "    \"1. **Meeting Scheduled**: For entries where the client has confirmed or proposed a specific time for a meeting, add it to the 'Meeting Scheduled' JSON object. Use the entry ID as the key, and include both the conversation_summary and 'Last message received on' in the value.\\n\\n\"\n",
    "\n",
    "    \"2. **Recontact Needed**: For entries where the client explicitly requests to be contacted at a later date, such as 'Please follow up after a month,' add it to the 'Recontact Needed' JSON object. Use the entry ID as the key, with the conversation_summary as the value., calculate follow_up date from 'last message received on' field entry and details from the summary and include it\\n\\n\"\n",
    "\n",
    "    \"3. **Follow-up Suggested**: For all remaining entries, if the client has declined the offer, generate a polite closing message. For other entries, generate a follow-up email acknowledging the client’s interest, restating key points, and requesting their availability for further discussion. Add these to the 'Follow-up Suggested' JSON object, with the entry ID as the key and the generated email body as the value. Do not return the subject\\n\\n\"\n",
    "\n",
    "    \"Ensure each entry is assigned to **only one** category, based on the first applicable rule: prioritize 'Meeting Scheduled' over 'Recontact Needed,' and 'Recontact Needed' over 'Follow-up Suggested.'\\n\\n\"\n",
    "\n",
    "    # \"Return only these three JSON objects in this exact order: Meeting Scheduled, Recontact Needed, and Follow-up Suggested. \"\n",
    "    # \"If no entries match a category, return an empty JSON object for that category. \"\n",
    "    # \"Return only the JSON objects directly, without any category labels or additional text.\"\n",
    "    # \"Ensure the output is plain JSON without any Markdown formatting or code block delimiters.\"\n",
    "    \"Return only these three arrays in this exact order: Meeting Scheduled, Recontact Needed, and Follow-up Suggested. \"\n",
    "    \"If no entries match a category, return an empty array for that category. \"\n",
    "    \"Return only the array directly, without any category labels or additional text.\"\n",
    "    \"Ensure the output is plain array without any Markdown formatting or code block delimiters.\"\n",
    ")\n",
    "\n",
    "# Second chain: Extracting the query from the conversation summary (expects 'summaries' as input)\n",
    "refinement_chain = LLMChain(llm=llm, prompt=refinement_prompt, output_key = \"processed_entries\")\n",
    "\n",
    "# Sequential chain to run both summarizing and query extraction in sequence\n",
    "first_thread = SimpleSequentialChain(\n",
    "    chains=[llm_chain_summary, refinement_chain],  # Chain two LLM chains together\n",
    "    # input_variables=[\"input\"],  # Starting input for the first chain\n",
    "    # output_variables=[\"processed_entries\"],  # Output variables from the chains\n",
    "    verbose=True\n",
    ")\n",
    "\n",
    "# Running the sequential chain with the first_data_input\n",
    "final_output = first_thread.run(first_data_input)\n",
    "\n",
    "# Output the final result\n",
    "print(final_output)"
   ]
  },
  {
   "cell_type": "code",
   "execution_count": 231,
   "metadata": {},
   "outputs": [
    {
     "data": {
      "text/plain": [
       "[{'3': \"Dear Rohith Sharma,\\n\\nThank you for your time and consideration regarding QState's AI solutions for appliance manufacturing. We understand that our solutions are not currently a fit for your needs, and we appreciate you letting us know.\\n\\nWe wish you all the best in your future endeavors.\\n\\nSincerely,\\nThe QState Team\"}]"
      ]
     },
     "execution_count": 231,
     "metadata": {},
     "output_type": "execute_result"
    }
   ],
   "source": [
    "import ast\n",
    "\n",
    "# LLM response as a string\n",
    "llm_response = '[], [], [{\"3\": \"Dear Rohith Sharma,\\n\\nThank you for your time and consideration regarding QState\\'s AI solutions for appliance manufacturing. We understand that our solutions are not currently a fit for your needs, and we appreciate you letting us know.\\n\\nWe wish you all the best in your future endeavors.\\n\\nSincerely,\\nThe QState Team\"}]'\n",
    "\n",
    "# Parse the string into Python objects\n",
    "parsed_data = ast.literal_eval(final_output)\n",
    "# Unpack into three arrays\n",
    "array1, array2, array3 = parsed_data\n",
    "array1\n",
    "array2\n",
    "array3\n"
   ]
  },
  {
   "cell_type": "code",
   "execution_count": 232,
   "metadata": {},
   "outputs": [
    {
     "name": "stdout",
     "output_type": "stream",
     "text": [
      "{\"questions\": {\"1\": \"How to proceed with implementing AI solutions for manufacturing?\", \"2\": \"What are the qualifications of the founders of QState?\", \"4\": \"Can you provide more information about QState?\"}, \"summaries\": {\"1\": \"Yuvraj from QState contacted Rajendra Kumar about AI solutions for manufacturing. Rajendra expressed interest but requested further information on how to proceed.  Client (Rajendra Kumar): Expressed interest, requested information on next steps. Executive (Yuvraj): Introduced QState and its AI solutions for manufacturing, offered to provide more information.Last message received on: Fri, 15 Nov 2024 17:43:50 +0530\", \"2\": \"Yuvraj from QState contacted Rajendra about AI solutions for nonprofits. Rajendra requested more information about QState, specifically the founders and their qualifications. Client (Rajendra): Requested information about company founders and their qualifications. Executive (Yuvraj): Introduced QState and its AI solutions for nonprofits, highlighting benefits.Last message received on: Fri, 15 Nov 2024 17:43:17 +0530\", \"4\": \"Yuvraj from QState contacted Rohith Goud about AI solutions for government administration. Rohith expressed interest but requested more information about QState. Client (Rohith Goud): Expressed interest, requested more company information. Executive (Yuvraj): Introduced QState and its AI solutions for government, highlighting benefits.Last message received on: Fri, 15 Nov 2024 17:41:05 +0530\"}}\n",
      "\n"
     ]
    }
   ],
   "source": [
    "\n",
    "# Running the LLM chain with the simplified prompt (your first chain)\n",
    "first_prompt = PromptTemplate.from_template(\n",
    "    \"You are given email conversation threads between a client and a business sales executive.\"\n",
    "    \"Here are the entries: {input}.\"\n",
    "    \"Each entry includes a subject line providing context, a message exchange between the two parties, and a date.\"\n",
    "    \"Summarize each conversation into a concise paragraph, specifying who provided each piece of information.\"\n",
    "    \"Each summary should highlight key points, exchanges, and any action items, clearly labeling client and executive contributions.\"\n",
    "    \"Only if the client asks for more time before responding or requests to be contacted after a month, indicate that the follow-up will be postponed and include a note stating that the lead is in follow-up.\"\n",
    "    \"This summary will be used to draft a follow-up response for each conversation.\"\n",
    "    \"Return the summary and indicate whether the conversation contains a question.\"\n",
    "    \"The result should be formatted as two JSON objects, where the key is the email number (integer only), and the value contains:\"\n",
    "    \"The conversation summary.\"\n",
    "    \"A 'has_query' field that indicates whether the conversation contains a question.\"\n",
    "    \"If the conversation contains a question, set 'has_query': true.\"\n",
    "    \"If not, set 'has_query': false.\"\n",
    "    \"A 'Last message received on' field with [date] from the provided data.'\"\n",
    "    \"For context, your name is Yuvraj, and your company is QState.\"\n",
    "    \"The two json objects should have the following format: 'with_queries' field having entries with queries and 'without_queries' field with remaining entries\"\n",
    "    \" Ensure the output is plain JSON without any Markdown formatting or code block delimiters.\"\n",
    "    \"pack all the data as a value with key 'summaries'\"\n",
    ")\n",
    "\n",
    "llm_chain_summary = LLMChain(llm=llm, prompt=first_prompt, output_key='summaries')\n",
    "\n",
    "# Query extraction chain\n",
    "query_extraction_prompt = PromptTemplate.from_template(\"\"\"\n",
    "You are given a set of conversation summaries from previous email exchanges between clients and sales executives.\n",
    "Here are the summaries: {summaries}\n",
    "\n",
    "The summaries are grouped as 'with_queries' and 'without_queries'. Each summary includes a conversation summary, whether there is a query, and the last message received on a specific date.\n",
    "\n",
    "Your task is to take only the summaries grouped under 'with_queries' and extract the query from each summary, if present. For each summary:\n",
    "- If there is a query, extract the exact question that the client has asked and frame it properly for Retrieval Augmented Generation.\n",
    "- If there is no query, skip it and do not include it in the JSON for extracted queries.\n",
    "\n",
    "The output should contain two JSON objects:\n",
    "1. The first JSON object should contain:\n",
    "    - The key `questions`, with an inner object where:\n",
    "        - The email number (integer only, starting from 1) is the key.\n",
    "        - The extracted query is the value (only if a query is present).\n",
    "2. The second JSON object should contain:\n",
    "    - The key `summaries`, with an inner object where:\n",
    "        - The email number (integer only, starting from 1) is the key.\n",
    "        - The conversation summary with the 'Last message received on' field value as the value.\n",
    "    - Ensure there are no newline characters in between or after the dictionaries.\n",
    "\n",
    "Ensure the output is plain JSON without any Markdown formatting or code block delimiters. For context, your name is Yuvraj, and your company is QState.\n",
    "\"\"\")\n",
    "\n",
    "\n",
    "\n",
    "llm_chain_query_extraction = LLMChain(llm=llm, prompt=query_extraction_prompt, output_key='questions')\n",
    "\n",
    "# Sequential chain: Extract summary, then queries, and fetch answers\n",
    "second_thread = SimpleSequentialChain(chains = [llm_chain_summary , llm_chain_query_extraction])\n",
    "\n",
    "# Running the full chain, now the queries will be processed to get the answers\n",
    "final_output = second_thread.run(first_data_input)\n",
    "\n",
    "# Output the final result, now with answers to the queries included\n",
    "print(final_output)"
   ]
  },
  {
   "cell_type": "code",
   "execution_count": 233,
   "metadata": {},
   "outputs": [
    {
     "name": "stdout",
     "output_type": "stream",
     "text": [
      "\n",
      "\n",
      "\u001b[1m> Entering new SimpleSequentialChain chain...\u001b[0m\n",
      "\u001b[36;1m\u001b[1;3m{\"summaries\": {\"with_queries\": [{\"1\": {\"conversation_summary\": \"Yuvraj from QState contacted Rajendra Kumar about AI solutions for manufacturing. Rajendra expressed interest but requested further information on how to proceed.  \\n\\n**Client (Rajendra Kumar):** Expressed interest, requested information on next steps.\\n\\n**Executive (Yuvraj):** Introduced QState and its AI solutions for manufacturing, offered to provide more information.\", \"has_query\": true, \"Last message received on\": \"Fri, 15 Nov 2024 17:43:50 +0530\"}}, {\"4\": {\"conversation_summary\": \"Yuvraj from QState contacted Rohith Goud about AI solutions for government administration. Rohith Goud expressed interest but requested more information about QState. \\n\\n**Client (Rohith Goud):** Expressed interest, requested company information.\\n\\n**Executive (Yuvraj):** Introduced QState and its AI solutions for government, offered further discussion.\", \"has_query\": true, \"Last message received on\": \"Fri, 15 Nov 2024 17:41:05 +0530\"}}, {\"2\": {\"conversation_summary\": \"Yuvraj from QState contacted Rajendra about AI solutions for nonprofits. Rajendra requested information about the company founders and their qualifications.\\n\\n**Client (Rajendra):** Requested information about company founders and their qualifications.\\n\\n**Executive (Yuvraj):** Introduced QState and its AI solutions for nonprofits, offered a conversation to explore further.\", \"has_query\": true, \"Last message received on\": \"Fri, 15 Nov 2024 17:43:17 +0530\"}}], \"without_queries\": [{\"3\": {\"conversation_summary\": \"Yuvraj from QState contacted Rohith Sharma about AI solutions for appliance manufacturing. Rohith Sharma was not interested.\\n\\n**Client (Rohith Sharma):** Declined the offer.\\n\\n**Executive (Yuvraj):** Introduced QState and its AI solutions for appliance manufacturing, offered a call to discuss further.\", \"has_query\": false, \"Last message received on\": \"Fri, 15 Nov 2024 17:41:51 +0530\"}}]}}\n",
      "\u001b[0m\n",
      "\u001b[33;1m\u001b[1;3m[],[],[{\"3\": \"Dear Rohith Sharma,\\n\\nThank you for your time and consideration regarding QState's AI solutions for appliance manufacturing. We understand that our solutions are not currently a fit for your needs, and we appreciate you letting us know.\\n\\nWe wish you all the best in your future endeavors.\\n\\nSincerely,\\nThe QState Team\"}]\n",
      "\u001b[0m\n",
      "\n",
      "\u001b[1m> Finished chain.\u001b[0m\n",
      "{'first_thread': '[],[],[{\"3\": \"Dear Rohith Sharma,\\\\n\\\\nThank you for your time and consideration regarding QState\\'s AI solutions for appliance manufacturing. We understand that our solutions are not currently a fit for your needs, and we appreciate you letting us know.\\\\n\\\\nWe wish you all the best in your future endeavors.\\\\n\\\\nSincerely,\\\\nThe QState Team\"}]\\n', 'second_thread': '{\"questions\": {\"1\": \"How to proceed with implementing AI solutions for manufacturing?\", \"2\": \"What are the qualifications of the company founders?\", \"4\": \"Can you provide more information about QState?\"}, \"summaries\": {\"1\": \"Yuvraj from QState contacted Rajendra Kumar about AI solutions for manufacturing. Rajendra expressed interest but requested further information on how to proceed.  Client (Rajendra Kumar): Expressed interest, requested information on next steps. Executive (Yuvraj): Introduced QState and its AI solutions for manufacturing, offered to provide more information.Last message received on: Fri, 15 Nov 2024 17:43:50 +0530\", \"2\": \"Yuvraj from QState contacted Rajendra about AI solutions for nonprofits. Rajendra requested more information about QState, specifically the founders and their qualifications. Client (Rajendra): Requested information about company founders and their qualifications. Executive (Yuvraj): Introduced QState and its AI solutions for nonprofits, highlighting benefits.Last message received on: Fri, 15 Nov 2024 17:43:17 +0530\", \"4\": \"Yuvraj from QState contacted Rohith Goud about AI solutions for government administration. Rohith expressed interest but requested more information about QState. Client (Rohith Goud): Expressed interest, requested more company information. Executive (Yuvraj): Introduced QState and its AI solutions for government, highlighting benefits.Last message received on: Fri, 15 Nov 2024 17:41:05 +0530\"}}\\n'}\n"
     ]
    }
   ],
   "source": [
    "from langchain_core.runnables import RunnableParallel\n",
    "\n",
    "# Define a custom function to ensure only the processed entries are returned\n",
    "class CustomRunnableParallel(RunnableParallel):\n",
    "    def invoke(self, inputs):\n",
    "        # Run the parallel chains\n",
    "        result = super().invoke(inputs)\n",
    "        \n",
    "        # Extract the relevant outputs from both threads\n",
    "        final_result = {\n",
    "            \"first_thread\": result.get(\"first_thread\", {}).get(\"output\", {}),\n",
    "            \"second_thread\": result.get(\"second_thread\", {}).get(\"output\", {})\n",
    "        }\n",
    "        \n",
    "        return final_result\n",
    "\n",
    "# Create the customized parallel chain\n",
    "parallel_chain = CustomRunnableParallel(\n",
    "    first_thread=first_thread,\n",
    "    second_thread=second_thread\n",
    ")\n",
    "\n",
    "# Now, invoke the parallel chain\n",
    "final_output = parallel_chain.invoke(first_data_input)\n",
    "print(final_output)"
   ]
  },
  {
   "cell_type": "code",
   "execution_count": 234,
   "metadata": {},
   "outputs": [
    {
     "name": "stdout",
     "output_type": "stream",
     "text": [
      "1: []\n",
      "2: []\n",
      "3: [{'3': \"Dear Rohith Sharma,\\n\\nThank you for your time and consideration regarding QState's AI solutions for appliance manufacturing. We understand that our solutions are not currently a fit for your needs, and we appreciate you letting us know.\\n\\nWe wish you all the best in your future endeavors.\\n\\nSincerely,\\nThe QState Team\"}]\n"
     ]
    }
   ],
   "source": [
    "import ast\n",
    "\n",
    "# Parse the string into Python objects\n",
    "parsed_data = ast.literal_eval(final_output[\"first_thread\"])\n",
    "# Unpack into three arrays\n",
    "array1, array2, array3 = parsed_data\n",
    "print(\"1:\",array1)\n",
    "print(\"2:\",array2)\n",
    "print(\"3:\",array3)"
   ]
  },
  {
   "cell_type": "code",
   "execution_count": 235,
   "metadata": {},
   "outputs": [
    {
     "data": {
      "text/plain": [
       "'{\"questions\": {\"1\": \"How to proceed with implementing AI solutions for manufacturing?\", \"2\": \"What are the qualifications of the company founders?\", \"4\": \"Can you provide more information about QState?\"}, \"summaries\": {\"1\": \"Yuvraj from QState contacted Rajendra Kumar about AI solutions for manufacturing. Rajendra expressed interest but requested further information on how to proceed.  Client (Rajendra Kumar): Expressed interest, requested information on next steps. Executive (Yuvraj): Introduced QState and its AI solutions for manufacturing, offered to provide more information.Last message received on: Fri, 15 Nov 2024 17:43:50 +0530\", \"2\": \"Yuvraj from QState contacted Rajendra about AI solutions for nonprofits. Rajendra requested more information about QState, specifically the founders and their qualifications. Client (Rajendra): Requested information about company founders and their qualifications. Executive (Yuvraj): Introduced QState and its AI solutions for nonprofits, highlighting benefits.Last message received on: Fri, 15 Nov 2024 17:43:17 +0530\", \"4\": \"Yuvraj from QState contacted Rohith Goud about AI solutions for government administration. Rohith expressed interest but requested more information about QState. Client (Rohith Goud): Expressed interest, requested more company information. Executive (Yuvraj): Introduced QState and its AI solutions for government, highlighting benefits.Last message received on: Fri, 15 Nov 2024 17:41:05 +0530\"}}\\n'"
      ]
     },
     "execution_count": 235,
     "metadata": {},
     "output_type": "execute_result"
    }
   ],
   "source": [
    "final_output[\"second_thread\"]"
   ]
  },
  {
   "cell_type": "code",
   "execution_count": 236,
   "metadata": {},
   "outputs": [],
   "source": [
    "required_dict = json.loads(final_output[\"second_thread\"])"
   ]
  },
  {
   "cell_type": "code",
   "execution_count": 237,
   "metadata": {},
   "outputs": [],
   "source": [
    "required_questions = str(required_dict[\"questions\"])"
   ]
  },
  {
   "cell_type": "code",
   "execution_count": 238,
   "metadata": {},
   "outputs": [],
   "source": [
    "@chain\n",
    "def get_query_answer(questions,company='QState'):\n",
    "    \"get answer from document for the query\"\n",
    "    url = \"http://127.0.0.1:5000/api/answer\"\n",
    "    data = {\n",
    "        'question': questions,\n",
    "        'file_name':f'{company}.pdf'\n",
    "            }\n",
    "    \n",
    "    response = requests.post(url, json=data)\n",
    "    \n",
    "    if response.status_code ==  200:\n",
    "        return response.json()\n",
    "    else:\n",
    "        return ('Failed:', response.status_code, response.text)"
   ]
  },
  {
   "cell_type": "code",
   "execution_count": 239,
   "metadata": {},
   "outputs": [],
   "source": [
    "output = get_query_answer.invoke(required_questions)"
   ]
  },
  {
   "cell_type": "code",
   "execution_count": 240,
   "metadata": {},
   "outputs": [
    {
     "data": {
      "text/plain": [
       "{'questions': {'1': 'How to proceed with implementing AI solutions for manufacturing?',\n",
       "  '2': 'What are the qualifications of the company founders?',\n",
       "  '4': 'Can you provide more information about QState?'},\n",
       " 'summaries': {'1': 'Yuvraj from QState contacted Rajendra Kumar about AI solutions for manufacturing. Rajendra expressed interest but requested further information on how to proceed.  Client (Rajendra Kumar): Expressed interest, requested information on next steps. Executive (Yuvraj): Introduced QState and its AI solutions for manufacturing, offered to provide more information.Last message received on: Fri, 15 Nov 2024 17:43:50 +0530',\n",
       "  '2': 'Yuvraj from QState contacted Rajendra about AI solutions for nonprofits. Rajendra requested more information about QState, specifically the founders and their qualifications. Client (Rajendra): Requested information about company founders and their qualifications. Executive (Yuvraj): Introduced QState and its AI solutions for nonprofits, highlighting benefits.Last message received on: Fri, 15 Nov 2024 17:43:17 +0530',\n",
       "  '4': 'Yuvraj from QState contacted Rohith Goud about AI solutions for government administration. Rohith expressed interest but requested more information about QState. Client (Rohith Goud): Expressed interest, requested more company information. Executive (Yuvraj): Introduced QState and its AI solutions for government, highlighting benefits.Last message received on: Fri, 15 Nov 2024 17:41:05 +0530'},\n",
       " 'answers': '{\"1\": \"Answer is not available in the context.\", \"2\": \"Rajendra Prasad K: Co-founder of QState, with a background in AI, machine learning, and automation solutions. With a Master\\'s degree from Indian Institute of Technology Bhubaneswar and Bachelor\\'s degree from Indian Institute of Technology Tirupati\\\\nRohit: Co-founder of QState, with a bachelor\\'s degree from National Institute of Technology Durgapur with 4 years of work experience at CapGemini.\", \"4\": \"QState specializes in custom-built AI agents and multi-agent systems designed to streamline complex business processes, driving productivity gains and cost savings. Key features include: Ask Anything: AI agents answer business queries accurately, providing accessible information at your fingertips. Continuous Improvement: Systems are designed for adaptive learning, refining responses and increasing relevance over time. Smartest AI Solutions: The team leverages the latest advancements in AI to address complex business challenges. Analytics and Consulting: Access advanced analytics with consulting services to further enhance operational insights.\"}'}"
      ]
     },
     "execution_count": 240,
     "metadata": {},
     "output_type": "execute_result"
    }
   ],
   "source": [
    "required_dict[\"answers\"] = output[\"output_text\"]\n",
    "required_dict"
   ]
  },
  {
   "cell_type": "code",
   "execution_count": 241,
   "metadata": {},
   "outputs": [
    {
     "data": {
      "text/plain": [
       "{'1': 'How to proceed with implementing AI solutions for manufacturing?',\n",
       " '2': 'What are the qualifications of the company founders?',\n",
       " '4': 'Can you provide more information about QState?'}"
      ]
     },
     "execution_count": 241,
     "metadata": {},
     "output_type": "execute_result"
    }
   ],
   "source": [
    "required_dict.pop(\"questions\")"
   ]
  },
  {
   "cell_type": "code",
   "execution_count": 242,
   "metadata": {},
   "outputs": [
    {
     "data": {
      "text/plain": [
       "{'summaries': {'1': 'Yuvraj from QState contacted Rajendra Kumar about AI solutions for manufacturing. Rajendra expressed interest but requested further information on how to proceed.  Client (Rajendra Kumar): Expressed interest, requested information on next steps. Executive (Yuvraj): Introduced QState and its AI solutions for manufacturing, offered to provide more information.Last message received on: Fri, 15 Nov 2024 17:43:50 +0530',\n",
       "  '2': 'Yuvraj from QState contacted Rajendra about AI solutions for nonprofits. Rajendra requested more information about QState, specifically the founders and their qualifications. Client (Rajendra): Requested information about company founders and their qualifications. Executive (Yuvraj): Introduced QState and its AI solutions for nonprofits, highlighting benefits.Last message received on: Fri, 15 Nov 2024 17:43:17 +0530',\n",
       "  '4': 'Yuvraj from QState contacted Rohith Goud about AI solutions for government administration. Rohith expressed interest but requested more information about QState. Client (Rohith Goud): Expressed interest, requested more company information. Executive (Yuvraj): Introduced QState and its AI solutions for government, highlighting benefits.Last message received on: Fri, 15 Nov 2024 17:41:05 +0530'},\n",
       " 'answers': '{\"1\": \"Answer is not available in the context.\", \"2\": \"Rajendra Prasad K: Co-founder of QState, with a background in AI, machine learning, and automation solutions. With a Master\\'s degree from Indian Institute of Technology Bhubaneswar and Bachelor\\'s degree from Indian Institute of Technology Tirupati\\\\nRohit: Co-founder of QState, with a bachelor\\'s degree from National Institute of Technology Durgapur with 4 years of work experience at CapGemini.\", \"4\": \"QState specializes in custom-built AI agents and multi-agent systems designed to streamline complex business processes, driving productivity gains and cost savings. Key features include: Ask Anything: AI agents answer business queries accurately, providing accessible information at your fingertips. Continuous Improvement: Systems are designed for adaptive learning, refining responses and increasing relevance over time. Smartest AI Solutions: The team leverages the latest advancements in AI to address complex business challenges. Analytics and Consulting: Access advanced analytics with consulting services to further enhance operational insights.\"}'}"
      ]
     },
     "execution_count": 242,
     "metadata": {},
     "output_type": "execute_result"
    }
   ],
   "source": [
    "required_dict"
   ]
  },
  {
   "cell_type": "code",
   "execution_count": 243,
   "metadata": {},
   "outputs": [
    {
     "name": "stdout",
     "output_type": "stream",
     "text": [
      "{'1': 'Yuvraj from QState contacted Rajendra Kumar about AI solutions for manufacturing. Rajendra expressed interest but requested further information on how to proceed.  Client (Rajendra Kumar): Expressed interest, requested information on next steps. Executive (Yuvraj): Introduced QState and its AI solutions for manufacturing, offered to provide more information.Last message received on: Fri, 15 Nov 2024 17:43:50 +0530 Answer is not available in the context.', '2': \"Yuvraj from QState contacted Rajendra about AI solutions for nonprofits. Rajendra requested more information about QState, specifically the founders and their qualifications. Client (Rajendra): Requested information about company founders and their qualifications. Executive (Yuvraj): Introduced QState and its AI solutions for nonprofits, highlighting benefits.Last message received on: Fri, 15 Nov 2024 17:43:17 +0530 Rajendra Prasad K: Co-founder of QState, with a background in AI, machine learning, and automation solutions. With a Master's degree from Indian Institute of Technology Bhubaneswar and Bachelor's degree from Indian Institute of Technology Tirupati\\nRohit: Co-founder of QState, with a bachelor's degree from National Institute of Technology Durgapur with 4 years of work experience at CapGemini.\", '4': 'Yuvraj from QState contacted Rohith Goud about AI solutions for government administration. Rohith expressed interest but requested more information about QState. Client (Rohith Goud): Expressed interest, requested more company information. Executive (Yuvraj): Introduced QState and its AI solutions for government, highlighting benefits.Last message received on: Fri, 15 Nov 2024 17:41:05 +0530 QState specializes in custom-built AI agents and multi-agent systems designed to streamline complex business processes, driving productivity gains and cost savings. Key features include: Ask Anything: AI agents answer business queries accurately, providing accessible information at your fingertips. Continuous Improvement: Systems are designed for adaptive learning, refining responses and increasing relevance over time. Smartest AI Solutions: The team leverages the latest advancements in AI to address complex business challenges. Analytics and Consulting: Access advanced analytics with consulting services to further enhance operational insights.'}\n"
     ]
    }
   ],
   "source": [
    "def group_summaries_and_answers(input_data):\n",
    "    summaries = input_data['summaries']\n",
    "    answers = eval(input_data['answers'])  # Safely parse the string into a dictionary\n",
    "    \n",
    "    result = {}\n",
    "    \n",
    "    # Iterate through the summaries and match with the corresponding answer using the index\n",
    "    for index in summaries:\n",
    "        result[index] = summaries[index] + \" \" + answers.get(index, \"Answer not available\")\n",
    "    \n",
    "    return result\n",
    "print(group_summaries_and_answers(required_dict))"
   ]
  },
  {
   "cell_type": "code",
   "execution_count": 253,
   "metadata": {},
   "outputs": [
    {
     "name": "stdout",
     "output_type": "stream",
     "text": [
      "{'1': 'Yuvraj from QState contacted Rajendra Kumar about AI solutions for manufacturing. Rajendra expressed interest but requested further information on how to proceed.  Client (Rajendra Kumar): Expressed interest, requested information on next steps. Executive (Yuvraj): Introduced QState and its AI solutions for manufacturing, offered to provide more information.Last message received on: Fri, 15 Nov 2024 17:43:50 +0530 Answer is not available in the context.', '2': \"Yuvraj from QState contacted Rajendra about AI solutions for nonprofits. Rajendra requested more information about QState, specifically the founders and their qualifications. Client (Rajendra): Requested information about company founders and their qualifications. Executive (Yuvraj): Introduced QState and its AI solutions for nonprofits, highlighting benefits.Last message received on: Fri, 15 Nov 2024 17:43:17 +0530 Rajendra Prasad K: Co-founder of QState, with a background in AI, machine learning, and automation solutions. With a Master's degree from Indian Institute of Technology Bhubaneswar and Bachelor's degree from Indian Institute of Technology Tirupati\\nRohit: Co-founder of QState, with a bachelor's degree from National Institute of Technology Durgapur with 4 years of work experience at CapGemini.\", '4': 'Yuvraj from QState contacted Rohith Goud about AI solutions for government administration. Rohith expressed interest but requested more information about QState. Client (Rohith Goud): Expressed interest, requested more company information. Executive (Yuvraj): Introduced QState and its AI solutions for government, highlighting benefits.Last message received on: Fri, 15 Nov 2024 17:41:05 +0530 QState specializes in custom-built AI agents and multi-agent systems designed to streamline complex business processes, driving productivity gains and cost savings. Key features include: Ask Anything: AI agents answer business queries accurately, providing accessible information at your fingertips. Continuous Improvement: Systems are designed for adaptive learning, refining responses and increasing relevance over time. Smartest AI Solutions: The team leverages the latest advancements in AI to address complex business challenges. Analytics and Consulting: Access advanced analytics with consulting services to further enhance operational insights.'}\n"
     ]
    }
   ],
   "source": [
    "grouped_output = group_summaries_and_answers(required_dict)\n",
    "print(grouped_output)"
   ]
  },
  {
   "cell_type": "code",
   "execution_count": 245,
   "metadata": {},
   "outputs": [],
   "source": [
    "postquery_refinement_prompt = PromptTemplate.from_template(\n",
    "    \"You are given a set of conversation summaries and answers from previous email exchanges between clients and sales executives.\"\n",
    "    \"here is the data: {entries}\"\n",
    "    \"Return the output in the following format: \"\n",
    "    \"Each entry includes a conversation summary followed by answer to the quesiton in it.\"\n",
    "    \"Your task is go through each and every entry along with the answer, if the client has declined the offer, generate a polite closing message. For other entries, generate a follow-up email acknowledging the client’s interest, restating key points, and requesting their availability for further discussion. Add these to the 'Follow-up Suggested' JSON object, with the entry ID as the key and the generated email body as the value. Do not return the subject\\n\\n\"\n",
    "\n",
    "    \"Return only three JSON objects in this exact order:\"\n",
    "    \"1.empty json object\"\n",
    "    \"2.empty json object\"\n",
    "    \"3.json object with entry id(integer only) and the email bodies without subject. \"\n",
    "    \"Return the JSON objects directly, without any category labels or additional text.\"\n",
    "    \"Ensure response to all the items in the {entries}\"\n",
    "    \"Ensure the output is plain JSON without any Markdown formatting or code block delimiters or new line characters. For context\"\n",
    ")\n",
    "\n",
    "postquery_refinement_chain = LLMChain(llm=llm, prompt=postquery_refinement_prompt,verbose = True)"
   ]
  },
  {
   "cell_type": "code",
   "execution_count": 246,
   "metadata": {},
   "outputs": [
    {
     "name": "stdout",
     "output_type": "stream",
     "text": [
      "\n",
      "\n",
      "\u001b[1m> Entering new LLMChain chain...\u001b[0m\n",
      "Prompt after formatting:\n",
      "\u001b[32;1m\u001b[1;3mYou are given a set of conversation summaries and answers from previous email exchanges between clients and sales executives.here is the data: {'1': 'Yuvraj from QState contacted Rajendra Kumar about AI solutions for manufacturing. Rajendra expressed interest but requested further information on how to proceed.  Client (Rajendra Kumar): Expressed interest, requested information on next steps. Executive (Yuvraj): Introduced QState and its AI solutions for manufacturing, offered to provide more information.Last message received on: Fri, 15 Nov 2024 17:43:50 +0530 Answer is not available in the context.', '2': \"Yuvraj from QState contacted Rajendra about AI solutions for nonprofits. Rajendra requested more information about QState, specifically the founders and their qualifications. Client (Rajendra): Requested information about company founders and their qualifications. Executive (Yuvraj): Introduced QState and its AI solutions for nonprofits, highlighting benefits.Last message received on: Fri, 15 Nov 2024 17:43:17 +0530 Rajendra Prasad K: Co-founder of QState, with a background in AI, machine learning, and automation solutions. With a Master's degree from Indian Institute of Technology Bhubaneswar and Bachelor's degree from Indian Institute of Technology Tirupati\\nRohit: Co-founder of QState, with a bachelor's degree from National Institute of Technology Durgapur with 4 years of work experience at CapGemini.\", '4': 'Yuvraj from QState contacted Rohith Goud about AI solutions for government administration. Rohith expressed interest but requested more information about QState. Client (Rohith Goud): Expressed interest, requested more company information. Executive (Yuvraj): Introduced QState and its AI solutions for government, highlighting benefits.Last message received on: Fri, 15 Nov 2024 17:41:05 +0530 QState specializes in custom-built AI agents and multi-agent systems designed to streamline complex business processes, driving productivity gains and cost savings. Key features include: Ask Anything: AI agents answer business queries accurately, providing accessible information at your fingertips. Continuous Improvement: Systems are designed for adaptive learning, refining responses and increasing relevance over time. Smartest AI Solutions: The team leverages the latest advancements in AI to address complex business challenges. Analytics and Consulting: Access advanced analytics with consulting services to further enhance operational insights.'}Return the output in the following format: Each entry includes a conversation summary followed by answer to the quesiton in it.Your task is go through each and every entry along with the answer, if the client has declined the offer, generate a polite closing message. For other entries, generate a follow-up email acknowledging the client’s interest, restating key points, and requesting their availability for further discussion. Add these to the 'Follow-up Suggested' JSON object, with the entry ID as the key and the generated email body as the value. Do not return the subject\n",
      "\n",
      "Return only three JSON objects in this exact order:1.empty json object2.empty json object3.json object with entry id(integer only) and the email bodies without subject. Return the JSON objects directly, without any category labels or additional text.Ensure response to all the items in the {'1': 'Yuvraj from QState contacted Rajendra Kumar about AI solutions for manufacturing. Rajendra expressed interest but requested further information on how to proceed.  Client (Rajendra Kumar): Expressed interest, requested information on next steps. Executive (Yuvraj): Introduced QState and its AI solutions for manufacturing, offered to provide more information.Last message received on: Fri, 15 Nov 2024 17:43:50 +0530 Answer is not available in the context.', '2': \"Yuvraj from QState contacted Rajendra about AI solutions for nonprofits. Rajendra requested more information about QState, specifically the founders and their qualifications. Client (Rajendra): Requested information about company founders and their qualifications. Executive (Yuvraj): Introduced QState and its AI solutions for nonprofits, highlighting benefits.Last message received on: Fri, 15 Nov 2024 17:43:17 +0530 Rajendra Prasad K: Co-founder of QState, with a background in AI, machine learning, and automation solutions. With a Master's degree from Indian Institute of Technology Bhubaneswar and Bachelor's degree from Indian Institute of Technology Tirupati\\nRohit: Co-founder of QState, with a bachelor's degree from National Institute of Technology Durgapur with 4 years of work experience at CapGemini.\", '4': 'Yuvraj from QState contacted Rohith Goud about AI solutions for government administration. Rohith expressed interest but requested more information about QState. Client (Rohith Goud): Expressed interest, requested more company information. Executive (Yuvraj): Introduced QState and its AI solutions for government, highlighting benefits.Last message received on: Fri, 15 Nov 2024 17:41:05 +0530 QState specializes in custom-built AI agents and multi-agent systems designed to streamline complex business processes, driving productivity gains and cost savings. Key features include: Ask Anything: AI agents answer business queries accurately, providing accessible information at your fingertips. Continuous Improvement: Systems are designed for adaptive learning, refining responses and increasing relevance over time. Smartest AI Solutions: The team leverages the latest advancements in AI to address complex business challenges. Analytics and Consulting: Access advanced analytics with consulting services to further enhance operational insights.'}Ensure the output is plain JSON without any Markdown formatting or code block delimiters or new line characters. For context\u001b[0m\n",
      "\n",
      "\u001b[1m> Finished chain.\u001b[0m\n"
     ]
    }
   ],
   "source": [
    "second_thread_downstream_output = postquery_refinement_chain.invoke({\"entries\":grouped_output})"
   ]
  },
  {
   "cell_type": "code",
   "execution_count": 247,
   "metadata": {},
   "outputs": [
    {
     "data": {
      "text/plain": [
       "'{}\\n{}\\n{\"1\": \"Dear Rajendra Kumar,\\\\n\\\\nThank you for your interest in QState\\'s AI solutions for manufacturing. We understand you\\'d like more information on how to proceed.\\\\n\\\\nTo recap, QState offers cutting-edge AI solutions tailored to streamline manufacturing processes and boost efficiency.  We\\'d be happy to schedule a brief call to discuss your specific needs and demonstrate how our solutions can benefit your organization. \\\\n\\\\nPlease let us know what time works best for you to connect next week.\", \"2\": \"Dear Rajendra,\\\\n\\\\nFollowing up on our conversation about AI solutions for nonprofits, I wanted to reiterate QState\\'s commitment to helping organizations like yours achieve their goals through innovative AI technology.  As discussed, our co-founders, Rajendra Prasad K and Rohit, bring extensive expertise in AI and machine learning to the table.  Rajendra holds a Master\\'s degree from IIT Bhubaneswar and a Bachelor\\'s degree from IIT Tirupati, while Rohit has a Bachelor\\'s degree from NIT Durgapur and 4 years of experience at Capgemini.\\\\n\\\\nWould you be available for a quick call sometime next week to discuss your specific requirements and how QState can assist you?\", \"4\": \"Dear Rohith Goud,\\\\n\\\\nThank you for your interest in QState\\'s AI solutions for government administration. We understand you\\'d like more information about our company.\\\\n\\\\nQState specializes in custom-built AI agents and multi-agent systems designed to streamline complex processes, driving productivity and cost savings. Key features include our \\'Ask Anything\\' AI agents for accurate business query answering, continuous improvement through adaptive learning, and access to advanced analytics and consulting services.\\\\n\\\\nWe\\'d be delighted to schedule a call to discuss your specific needs and demonstrate how our solutions can benefit your organization. Please let us know your availability for a brief conversation next week.\"}\\n'"
      ]
     },
     "execution_count": 247,
     "metadata": {},
     "output_type": "execute_result"
    }
   ],
   "source": [
    "second_thread_downstream_output = second_thread_downstream_output[\"text\"]\n",
    "second_thread_downstream_output"
   ]
  },
  {
   "cell_type": "code",
   "execution_count": 248,
   "metadata": {},
   "outputs": [
    {
     "name": "stdout",
     "output_type": "stream",
     "text": [
      "\n",
      "\n",
      "\u001b[1m> Entering new LLMChain chain...\u001b[0m\n",
      "Prompt after formatting:\n",
      "\u001b[32;1m\u001b[1;3mYou are given a set of conversation summaries and answers from previous email exchanges between clients and sales executives.here is the data: {'1': 'Yuvraj from QState contacted Rajendra Kumar about AI solutions for manufacturing. Rajendra expressed interest but requested further information on how to proceed.  Client (Rajendra Kumar): Expressed interest, requested information on next steps. Executive (Yuvraj): Introduced QState and its AI solutions for manufacturing, offered to provide more information.Last message received on: Fri, 15 Nov 2024 17:43:50 +0530 Answer is not available in the context.', '2': \"Yuvraj from QState contacted Rajendra about AI solutions for nonprofits. Rajendra requested more information about QState, specifically the founders and their qualifications. Client (Rajendra): Requested information about company founders and their qualifications. Executive (Yuvraj): Introduced QState and its AI solutions for nonprofits, highlighting benefits.Last message received on: Fri, 15 Nov 2024 17:43:17 +0530 Rajendra Prasad K: Co-founder of QState, with a background in AI, machine learning, and automation solutions. With a Master's degree from Indian Institute of Technology Bhubaneswar and Bachelor's degree from Indian Institute of Technology Tirupati\\nRohit: Co-founder of QState, with a bachelor's degree from National Institute of Technology Durgapur with 4 years of work experience at CapGemini.\", '4': 'Yuvraj from QState contacted Rohith Goud about AI solutions for government administration. Rohith expressed interest but requested more information about QState. Client (Rohith Goud): Expressed interest, requested more company information. Executive (Yuvraj): Introduced QState and its AI solutions for government, highlighting benefits.Last message received on: Fri, 15 Nov 2024 17:41:05 +0530 QState specializes in custom-built AI agents and multi-agent systems designed to streamline complex business processes, driving productivity gains and cost savings. Key features include: Ask Anything: AI agents answer business queries accurately, providing accessible information at your fingertips. Continuous Improvement: Systems are designed for adaptive learning, refining responses and increasing relevance over time. Smartest AI Solutions: The team leverages the latest advancements in AI to address complex business challenges. Analytics and Consulting: Access advanced analytics with consulting services to further enhance operational insights.'}Return the output in the following format: Each entry includes a conversation summary followed by answer to the quesiton in it.Your task is go through each and every entry along with the answer, even if the client has declined the offer, generate a polite closing message. For other entries, generate a follow-up email acknowledging the client’s interest, restating key points, and requesting their availability for further discussion. Add these to the 'Follow-up Suggested' JSON object, with the entry ID as the key and the generated email body as the value. Do not return the subject\n",
      "\n",
      "Return only three arrays in this exact order:1.empty array2.empty array3.array with a json object with entry id(integer only) and the email bodies without subject.Return the JSON objects directly, without any category labels or additional text.Ensure the output is plain JSON without any Markdown formatting or code block delimiters or new line characters. For contextReturn only the array directly, without any category labels or additional text.Ensure the output is plain array without any Markdown formatting or code block delimiters.Ensure response to all the items in the {'1': 'Yuvraj from QState contacted Rajendra Kumar about AI solutions for manufacturing. Rajendra expressed interest but requested further information on how to proceed.  Client (Rajendra Kumar): Expressed interest, requested information on next steps. Executive (Yuvraj): Introduced QState and its AI solutions for manufacturing, offered to provide more information.Last message received on: Fri, 15 Nov 2024 17:43:50 +0530 Answer is not available in the context.', '2': \"Yuvraj from QState contacted Rajendra about AI solutions for nonprofits. Rajendra requested more information about QState, specifically the founders and their qualifications. Client (Rajendra): Requested information about company founders and their qualifications. Executive (Yuvraj): Introduced QState and its AI solutions for nonprofits, highlighting benefits.Last message received on: Fri, 15 Nov 2024 17:43:17 +0530 Rajendra Prasad K: Co-founder of QState, with a background in AI, machine learning, and automation solutions. With a Master's degree from Indian Institute of Technology Bhubaneswar and Bachelor's degree from Indian Institute of Technology Tirupati\\nRohit: Co-founder of QState, with a bachelor's degree from National Institute of Technology Durgapur with 4 years of work experience at CapGemini.\", '4': 'Yuvraj from QState contacted Rohith Goud about AI solutions for government administration. Rohith expressed interest but requested more information about QState. Client (Rohith Goud): Expressed interest, requested more company information. Executive (Yuvraj): Introduced QState and its AI solutions for government, highlighting benefits.Last message received on: Fri, 15 Nov 2024 17:41:05 +0530 QState specializes in custom-built AI agents and multi-agent systems designed to streamline complex business processes, driving productivity gains and cost savings. Key features include: Ask Anything: AI agents answer business queries accurately, providing accessible information at your fingertips. Continuous Improvement: Systems are designed for adaptive learning, refining responses and increasing relevance over time. Smartest AI Solutions: The team leverages the latest advancements in AI to address complex business challenges. Analytics and Consulting: Access advanced analytics with consulting services to further enhance operational insights.'}\u001b[0m\n",
      "\n",
      "\u001b[1m> Finished chain.\u001b[0m\n"
     ]
    },
    {
     "data": {
      "text/plain": [
       "{'entries': {'1': 'Yuvraj from QState contacted Rajendra Kumar about AI solutions for manufacturing. Rajendra expressed interest but requested further information on how to proceed.  Client (Rajendra Kumar): Expressed interest, requested information on next steps. Executive (Yuvraj): Introduced QState and its AI solutions for manufacturing, offered to provide more information.Last message received on: Fri, 15 Nov 2024 17:43:50 +0530 Answer is not available in the context.',\n",
       "  '2': \"Yuvraj from QState contacted Rajendra about AI solutions for nonprofits. Rajendra requested more information about QState, specifically the founders and their qualifications. Client (Rajendra): Requested information about company founders and their qualifications. Executive (Yuvraj): Introduced QState and its AI solutions for nonprofits, highlighting benefits.Last message received on: Fri, 15 Nov 2024 17:43:17 +0530 Rajendra Prasad K: Co-founder of QState, with a background in AI, machine learning, and automation solutions. With a Master's degree from Indian Institute of Technology Bhubaneswar and Bachelor's degree from Indian Institute of Technology Tirupati\\nRohit: Co-founder of QState, with a bachelor's degree from National Institute of Technology Durgapur with 4 years of work experience at CapGemini.\",\n",
       "  '4': 'Yuvraj from QState contacted Rohith Goud about AI solutions for government administration. Rohith expressed interest but requested more information about QState. Client (Rohith Goud): Expressed interest, requested more company information. Executive (Yuvraj): Introduced QState and its AI solutions for government, highlighting benefits.Last message received on: Fri, 15 Nov 2024 17:41:05 +0530 QState specializes in custom-built AI agents and multi-agent systems designed to streamline complex business processes, driving productivity gains and cost savings. Key features include: Ask Anything: AI agents answer business queries accurately, providing accessible information at your fingertips. Continuous Improvement: Systems are designed for adaptive learning, refining responses and increasing relevance over time. Smartest AI Solutions: The team leverages the latest advancements in AI to address complex business challenges. Analytics and Consulting: Access advanced analytics with consulting services to further enhance operational insights.'},\n",
       " 'text': '[],[],[{\"1\": \"Dear Rajendra Kumar,\\\\n\\\\nThank you for your interest in QState\\'s AI solutions for manufacturing. We understand you\\'d like more information on how to proceed.  We\\'re happy to help!\\\\n\\\\nTo best assist you, could you please let us know what specific aspects of implementation you\\'d like to discuss?  Are there any particular challenges you\\'re facing that you believe AI could address?\\\\n\\\\nPlease let us know what time works best for a brief call to discuss this further.\\\\n\\\\nSincerely,\\\\nYuvraj\"}, {\"2\": \"Dear Rajendra,\\\\n\\\\nThank you for your interest in QState\\'s AI solutions for nonprofits and for your questions about our founders. We appreciate your thoroughness!\\\\n\\\\nAs you requested, here\\'s a little more information about our team:\\\\n\\\\nRajendra Prasad K: Co-founder of QState, with a background in AI, machine learning, and automation solutions.  He holds a Master\\'s degree from the Indian Institute of Technology Bhubaneswar and a Bachelor\\'s degree from the Indian Institute of Technology Tirupati.\\\\n\\\\nRohit: Co-founder of QState, with a bachelor\\'s degree from the National Institute of Technology Durgapur and 4 years of work experience at CapGemini.\\\\n\\\\nWe believe our expertise aligns perfectly with the needs of nonprofits.  Would you be available for a quick call next week to discuss how our solutions can benefit your organization?\\\\n\\\\nSincerely,\\\\nYuvraj\"}, {\"4\": \"Dear Rohith Goud,\\\\n\\\\nThank you for your interest in QState\\'s AI solutions for government administration. We\\'re excited about the potential to help streamline your processes.\\\\n\\\\nAs you requested, here\\'s some more information about QState: We specialize in custom-built AI agents and multi-agent systems designed to streamline complex business processes, driving productivity gains and cost savings.  Key features include:\\\\n\\\\n* Ask Anything: AI agents answer business queries accurately, providing accessible information at your fingertips.\\\\n* Continuous Improvement: Systems are designed for adaptive learning, refining responses and increasing relevance over time.\\\\n* Smartest AI Solutions: The team leverages the latest advancements in AI to address complex business challenges.\\\\n* Analytics and Consulting: Access advanced analytics with consulting services to further enhance operational insights.\\\\n\\\\nWould you be available for a brief call sometime next week to discuss your specific needs and how QState can help?\\\\n\\\\nSincerely,\\\\nYuvraj\"}]\\n'}"
      ]
     },
     "execution_count": 248,
     "metadata": {},
     "output_type": "execute_result"
    }
   ],
   "source": [
    "postquery_refinement_prompt = PromptTemplate.from_template(\n",
    "     \"You are given a set of conversation summaries and answers from previous email exchanges between clients and sales executives.\"\n",
    "    \"here is the data: {entries}\"\n",
    "    \"Return the output in the following format: \"\n",
    "    \"Each entry includes a conversation summary followed by answer to the quesiton in it.\"\n",
    "    \"Your task is go through each and every entry along with the answer, even if the client has declined the offer, generate a polite closing message. For other entries, generate a follow-up email acknowledging the client’s interest, restating key points, and requesting their availability for further discussion. Add these to the 'Follow-up Suggested' JSON object, with the entry ID as the key and the generated email body as the value. Do not return the subject\\n\\n\"\n",
    "\n",
    "    \"Return only three arrays in this exact order:\"\n",
    "    \"1.empty array\"\n",
    "    \"2.empty array\"\n",
    "    \"3.array with a json object with entry id(integer only) and the email bodies without subject.\"\n",
    "    \"Return the JSON objects directly, without any category labels or additional text.\"\n",
    "    \"Ensure the output is plain JSON without any Markdown formatting or code block delimiters or new line characters. For context\"\n",
    "    \"Return only the array directly, without any category labels or additional text.\"\n",
    "    \"Ensure the output is plain array without any Markdown formatting or code block delimiters.\"\n",
    "    \"Ensure response to all the items in the {entries}\"\n",
    "\n",
    ")\n",
    "\n",
    "postquery_refinement_chain = LLMChain(llm=llm, prompt=postquery_refinement_prompt,verbose = True)\n",
    "output_dict = postquery_refinement_chain.invoke({\"entries\":grouped_output})\n",
    "output_dict"
   ]
  },
  {
   "cell_type": "code",
   "execution_count": 249,
   "metadata": {},
   "outputs": [
    {
     "data": {
      "text/plain": [
       "'[],[],[{\"1\": \"Dear Rajendra Kumar,\\\\n\\\\nThank you for your interest in QState\\'s AI solutions for manufacturing. We understand you\\'d like more information on how to proceed.  We\\'re happy to help!\\\\n\\\\nTo best assist you, could you please let us know what specific aspects of implementation you\\'d like to discuss?  Are there any particular challenges you\\'re facing that you believe AI could address?\\\\n\\\\nPlease let us know what time works best for a brief call to discuss this further.\\\\n\\\\nSincerely,\\\\nYuvraj\"}, {\"2\": \"Dear Rajendra,\\\\n\\\\nThank you for your interest in QState\\'s AI solutions for nonprofits and for your questions about our founders. We appreciate your thoroughness!\\\\n\\\\nAs you requested, here\\'s a little more information about our team:\\\\n\\\\nRajendra Prasad K: Co-founder of QState, with a background in AI, machine learning, and automation solutions.  He holds a Master\\'s degree from the Indian Institute of Technology Bhubaneswar and a Bachelor\\'s degree from the Indian Institute of Technology Tirupati.\\\\n\\\\nRohit: Co-founder of QState, with a bachelor\\'s degree from the National Institute of Technology Durgapur and 4 years of work experience at CapGemini.\\\\n\\\\nWe believe our expertise aligns perfectly with the needs of nonprofits.  Would you be available for a quick call next week to discuss how our solutions can benefit your organization?\\\\n\\\\nSincerely,\\\\nYuvraj\"}, {\"4\": \"Dear Rohith Goud,\\\\n\\\\nThank you for your interest in QState\\'s AI solutions for government administration. We\\'re excited about the potential to help streamline your processes.\\\\n\\\\nAs you requested, here\\'s some more information about QState: We specialize in custom-built AI agents and multi-agent systems designed to streamline complex business processes, driving productivity gains and cost savings.  Key features include:\\\\n\\\\n* Ask Anything: AI agents answer business queries accurately, providing accessible information at your fingertips.\\\\n* Continuous Improvement: Systems are designed for adaptive learning, refining responses and increasing relevance over time.\\\\n* Smartest AI Solutions: The team leverages the latest advancements in AI to address complex business challenges.\\\\n* Analytics and Consulting: Access advanced analytics with consulting services to further enhance operational insights.\\\\n\\\\nWould you be available for a brief call sometime next week to discuss your specific needs and how QState can help?\\\\n\\\\nSincerely,\\\\nYuvraj\"}]\\n'"
      ]
     },
     "execution_count": 249,
     "metadata": {},
     "output_type": "execute_result"
    }
   ],
   "source": [
    "output_dict[\"text\"]"
   ]
  },
  {
   "cell_type": "code",
   "execution_count": 250,
   "metadata": {},
   "outputs": [],
   "source": [
    "import ast\n",
    "\n",
    "# Parse the string into Python objects\n",
    "parsed_data_1 = ast.literal_eval(final_output[\"first_thread\"])\n",
    "# Unpack into three arrays\n",
    "array1, array2, array3 = parsed_data\n",
    "parsed_data_2 = ast.literal_eval(output_dict[\"text\"])\n",
    "array4,array5,array6 = parsed_data_2"
   ]
  },
  {
   "cell_type": "code",
   "execution_count": 251,
   "metadata": {},
   "outputs": [
    {
     "name": "stdout",
     "output_type": "stream",
     "text": [
      "{'3': \"Dear Rohith Sharma,\\n\\nThank you for your time and consideration regarding QState's AI solutions for appliance manufacturing. We understand that our solutions are not currently a fit for your needs, and we appreciate you letting us know.\\n\\nWe wish you all the best in your future endeavors.\\n\\nSincerely,\\nThe QState Team\", '1': \"Dear Rajendra Kumar,\\n\\nThank you for your interest in QState's AI solutions for manufacturing. We understand you'd like more information on how to proceed.  We're happy to help!\\n\\nTo best assist you, could you please let us know what specific aspects of implementation you'd like to discuss?  Are there any particular challenges you're facing that you believe AI could address?\\n\\nPlease let us know what time works best for a brief call to discuss this further.\\n\\nSincerely,\\nYuvraj\", '2': \"Dear Rajendra,\\n\\nThank you for your interest in QState's AI solutions for nonprofits and for your questions about our founders. We appreciate your thoroughness!\\n\\nAs you requested, here's a little more information about our team:\\n\\nRajendra Prasad K: Co-founder of QState, with a background in AI, machine learning, and automation solutions.  He holds a Master's degree from the Indian Institute of Technology Bhubaneswar and a Bachelor's degree from the Indian Institute of Technology Tirupati.\\n\\nRohit: Co-founder of QState, with a bachelor's degree from the National Institute of Technology Durgapur and 4 years of work experience at CapGemini.\\n\\nWe believe our expertise aligns perfectly with the needs of nonprofits.  Would you be available for a quick call next week to discuss how our solutions can benefit your organization?\\n\\nSincerely,\\nYuvraj\", '4': \"Dear Rohith Goud,\\n\\nThank you for your interest in QState's AI solutions for government administration. We're excited about the potential to help streamline your processes.\\n\\nAs you requested, here's some more information about QState: We specialize in custom-built AI agents and multi-agent systems designed to streamline complex business processes, driving productivity gains and cost savings.  Key features include:\\n\\n* Ask Anything: AI agents answer business queries accurately, providing accessible information at your fingertips.\\n* Continuous Improvement: Systems are designed for adaptive learning, refining responses and increasing relevance over time.\\n* Smartest AI Solutions: The team leverages the latest advancements in AI to address complex business challenges.\\n* Analytics and Consulting: Access advanced analytics with consulting services to further enhance operational insights.\\n\\nWould you be available for a brief call sometime next week to discuss your specific needs and how QState can help?\\n\\nSincerely,\\nYuvraj\"}\n"
     ]
    }
   ],
   "source": [
    "\n",
    "# Function to combine both arrays into a single dictionary\n",
    "def combine_arrays_to_dict(arr1, arr2):\n",
    "    combined_dict = {}\n",
    "    \n",
    "    # Iterate over both arrays\n",
    "    for array in [arr1, arr2]:\n",
    "        for element in array:\n",
    "            # Merge each dictionary into the combined dictionary\n",
    "            combined_dict.update(element)\n",
    "    \n",
    "    return combined_dict\n",
    "\n",
    "# Combine the arrays and print the result\n",
    "combined_result = combine_arrays_to_dict(array3, array6)\n",
    "print(combined_result)\n"
   ]
  },
  {
   "cell_type": "code",
   "execution_count": null,
   "metadata": {},
   "outputs": [],
   "source": []
  }
 ],
 "metadata": {
  "kernelspec": {
   "display_name": "base",
   "language": "python",
   "name": "python3"
  },
  "language_info": {
   "codemirror_mode": {
    "name": "ipython",
    "version": 3
   },
   "file_extension": ".py",
   "mimetype": "text/x-python",
   "name": "python",
   "nbconvert_exporter": "python",
   "pygments_lexer": "ipython3",
   "version": "3.12.4"
  }
 },
 "nbformat": 4,
 "nbformat_minor": 2
}
